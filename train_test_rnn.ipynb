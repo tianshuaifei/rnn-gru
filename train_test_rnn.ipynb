{
 "cells": [
  {
   "cell_type": "code",
   "execution_count": 1,
   "metadata": {
    "collapsed": false
   },
   "outputs": [],
   "source": [
    "import re\n",
    "import cPickle\n",
    "import numpy as np\n",
    "fn = 'word2idx.pkl'\n",
    "with open(fn, 'r') as f:                   \n",
    "     idx2word=cPickle.load(f)\n",
    "fn1 = 'label2idx.pkl'\n",
    "with open(fn1, 'r') as f1:                   \n",
    "     idx2label=cPickle.load(f1)\n",
    "fn2 = 'train_data.pkl'\n",
    "with open(fn2, 'r') as f2:                   \n",
    "      train_data=cPickle.load(f2) \n",
    "VOCABULARY_SIZE = 17415\n",
    "X_train, y_train=train_data"
   ]
  },
  {
   "cell_type": "code",
   "execution_count": 2,
   "metadata": {
    "collapsed": true
   },
   "outputs": [
    {
     "data": {
      "text/plain": [
       "(array([[0, 1], [2], [3, 4, 5, 6, 7, 8], ...,\n",
       "        [796, 7073, 5902, 2436, 391, 7266, 239, 2346, 24, 1100, 7943, 4502, 832, 5740, 233, 16411, 6255, 8],\n",
       "        [910, 6257, 79, 5252, 2083, 11, 5900, 2083, 5929, 79, 832, 1235, 165, 5213, 15, 835, 24, 17401, 1406, 3076, 3422, 11, 899, 81, 553, 55, 28, 4, 1132, 3655, 391, 690, 24, 1307, 7, 210, 1071, 131, 210, 8644, 15, 5535, 87, 760, 4, 6252, 6253, 194, 832, 5252, 1942, 5889, 2083, 15, 1712, 173, 2035, 2081, 87, 713, 4, 5252, 8543, 2098, 6278, 974, 194, 6257, 79, 5252, 2083, 15, 2002, 832, 173, 2035, 2081, 87, 189, 4, 5252, 2083, 832, 469, 173, 6819, 24, 17414, 2251, 194, 9630, 7019, 7878, 2251, 2083, 832, 8253, 323, 34, 87, 899, 4, 813, 6257, 495, 2078, 15, 1555, 656, 11, 843, 314, 395, 597, 2883, 1990, 3985, 5672, 8],\n",
       "        [17401, 54, 24, 1514, 2106, 6257, 79, 5252, 2083, 15, 5459, 334, 24, 747, 6499, 5252, 620, 24, 6470, 2959, 2510, 6257, 79, 5252, 2083, 5213, 15, 2217, 835, 24, 2416, 131, 424, 3991, 7, 2080, 1315, 5753, 55, 747, 6499, 620, 24, 10762, 3239, 1315, 5672, 87, 923, 3654, 1132, 3655, 24, 3931, 2371, 1132, 5899, 87, 2192, 6257, 2078, 7026, 974, 24, 2124, 6257, 3096, 3551, 5806, 24, 5074, 6257, 142, 12800, 10142, 15662, 7241, 832, 87, 2192, 6257, 5568, 131, 344, 79, 834, 7751, 867, 24, 747, 7490, 16904, 12352, 87, 747, 6311, 832, 7943, 4502, 24, 3585, 142, 9629, 2251, 7490, 24, 2002, 3475, 5252, 2083, 87, 2192, 6252, 6253, 24, 1233, 4088, 10880, 24, 5074, 5252, 5889, 2083, 15, 832, 87, 2192, 6257, 2069, 974, 24, 2081, 917, 1942, 5889, 2083, 5929, 15, 979, 87, 2544, 503, 1859, 15, 2116, 265, 2048, 6257, 131, 2192, 6257, 8]], dtype=object),\n",
       " array([[0, 0], [1], [2, 3, 4, 4, 5, 5], ...,\n",
       "        [5, 0, 0, 3, 10, 10, 5, 1, 5, 16, 0, 0, 0, 0, 2, 4, 4, 5],\n",
       "        [5, 1, 5, 0, 0, 5, 3, 0, 0, 5, 3, 1, 5, 3, 5, 1, 5, 1, 3, 2, 7, 7, 8, 8, 1, 5, 27, 3, 0, 0, 10, 10, 5, 11, 11, 4, 4, 5, 4, 4, 5, 1, 5, 27, 3, 0, 0, 5, 3, 0, 0, 0, 0, 5, 1, 9, 9, 9, 5, 27, 3, 1, 17, 17, 17, 17, 5, 1, 5, 0, 0, 5, 9, 9, 9, 9, 9, 5, 27, 3, 0, 0, 0, 10, 10, 10, 5, 0, 0, 5, 13, 13, 0, 0, 17, 17, 17, 7, 7, 5, 27, 3, 5, 1, 4, 4, 5, 0, 0, 5, 0, 0, 2, 2, 2, 3, 11, 11, 5],\n",
       "        [1, 3, 5, 5, 3, 1, 5, 0, 0, 5, 9, 9, 5, 3, 3, 0, 0, 5, 2, 3, 16, 1, 5, 0, 0, 3, 5, 0, 0, 5, 1, 5, 1, 11, 11, 17, 17, 17, 5, 2, 4, 4, 5, 2, 3, 0, 0, 5, 2, 3, 0, 0, 5, 2, 3, 0, 0, 5, 3, 0, 0, 0, 1, 5, 3, 0, 0, 0, 0, 5, 3, 1, 5, 0, 0, 0, 0, 3, 5, 3, 1, 1, 5, 1, 5, 1, 0, 0, 5, 3, 3, 1, 3, 5, 3, 2, 3, 0, 0, 5, 2, 5, 0, 0, 3, 5, 2, 3, 0, 0, 5, 3, 0, 0, 5, 3, 0, 0, 5, 3, 0, 0, 0, 5, 1, 5, 3, 17, 17, 17, 5, 3, 3, 0, 0, 0, 1, 5, 1, 5, 3, 0, 0, 5, 1, 3, 4, 4, 5, 4, 4, 5]], dtype=object))"
      ]
     },
     "execution_count": 2,
     "metadata": {},
     "output_type": "execute_result"
    }
   ],
   "source": [
    "len(idx2word)\n",
    "train_data"
   ]
  },
  {
   "cell_type": "code",
   "execution_count": 4,
   "metadata": {
    "collapsed": false
   },
   "outputs": [],
   "source": [
    "import numpy as np\n",
    "import theano as theano\n",
    "import theano.tensor as T\n",
    "import time\n",
    "import operator\n",
    "from utils import load_data,train_with_sgd, load_model_parameters_theano, save_model_parameters_theano,generate_sentence\n",
    "from gru_theano import *\n",
    "import sys\n",
    "LEARNING_RATE = 1e-3\n",
    "NEPOCH = 20\n",
    "HIDDEN_DIM = 128"
   ]
  },
  {
   "cell_type": "code",
   "execution_count": 5,
   "metadata": {
    "collapsed": true
   },
   "outputs": [],
   "source": [
    "x=[[1,1,1,1],[2,2,2,2],[3,3,3,3],[4,4,4,4],[5,5,5,5]]\n",
    "y=[1,1,1,1,1]"
   ]
  },
  {
   "cell_type": "code",
   "execution_count": 7,
   "metadata": {
    "collapsed": false
   },
   "outputs": [
    {
     "ename": "TypeError",
     "evalue": "('Bad input argument to theano function with name \"gru_theano.py:119\"  at index 0(0-based)', 'Wrong number of dimensions: expected 1, got 2 with shape (5, 4).')",
     "output_type": "error",
     "traceback": [
      "\u001b[1;31m---------------------------------------------------------------------------\u001b[0m",
      "\u001b[1;31mTypeError\u001b[0m                                 Traceback (most recent call last)",
      "\u001b[1;32m<ipython-input-7-445f231ec2ed>\u001b[0m in \u001b[0;36m<module>\u001b[1;34m()\u001b[0m\n\u001b[0;32m      1\u001b[0m \u001b[0mmodel\u001b[0m \u001b[1;33m=\u001b[0m \u001b[0mGRUTheano\u001b[0m\u001b[1;33m(\u001b[0m\u001b[0mVOCABULARY_SIZE\u001b[0m\u001b[1;33m,\u001b[0m \u001b[0mHIDDEN_DIM\u001b[0m\u001b[1;33m)\u001b[0m\u001b[1;33m\u001b[0m\u001b[0m\n\u001b[0;32m      2\u001b[0m \u001b[0mt1\u001b[0m \u001b[1;33m=\u001b[0m \u001b[0mtime\u001b[0m\u001b[1;33m.\u001b[0m\u001b[0mtime\u001b[0m\u001b[1;33m(\u001b[0m\u001b[1;33m)\u001b[0m\u001b[1;33m\u001b[0m\u001b[0m\n\u001b[1;32m----> 3\u001b[1;33m \u001b[0mmodel\u001b[0m\u001b[1;33m.\u001b[0m\u001b[0msgd_step\u001b[0m\u001b[1;33m(\u001b[0m\u001b[0mx\u001b[0m\u001b[1;33m,\u001b[0m\u001b[0my\u001b[0m\u001b[1;33m,\u001b[0m \u001b[0mLEARNING_RATE\u001b[0m\u001b[1;33m)\u001b[0m\u001b[1;33m\u001b[0m\u001b[0m\n\u001b[0m\u001b[0;32m      4\u001b[0m \u001b[0mt2\u001b[0m \u001b[1;33m=\u001b[0m \u001b[0mtime\u001b[0m\u001b[1;33m.\u001b[0m\u001b[0mtime\u001b[0m\u001b[1;33m(\u001b[0m\u001b[1;33m)\u001b[0m\u001b[1;33m\u001b[0m\u001b[0m\n\u001b[0;32m      5\u001b[0m \u001b[1;32mprint\u001b[0m \u001b[1;34m\"SGD Step time: ~%f milliseconds\"\u001b[0m \u001b[1;33m%\u001b[0m \u001b[1;33m(\u001b[0m\u001b[1;33m(\u001b[0m\u001b[0mt2\u001b[0m \u001b[1;33m-\u001b[0m \u001b[0mt1\u001b[0m\u001b[1;33m)\u001b[0m \u001b[1;33m*\u001b[0m \u001b[1;36m1000.\u001b[0m\u001b[1;33m)\u001b[0m\u001b[1;33m\u001b[0m\u001b[0m\n",
      "\u001b[1;32m/usr/lib/python2.7/site-packages/theano/compile/function_module.pyc\u001b[0m in \u001b[0;36m__call__\u001b[1;34m(self, *args, **kwargs)\u001b[0m\n\u001b[0;32m    511\u001b[0m                     \u001b[1;32mtry\u001b[0m\u001b[1;33m:\u001b[0m\u001b[1;33m\u001b[0m\u001b[0m\n\u001b[0;32m    512\u001b[0m                         s.storage[0] = s.type.filter(arg, strict=s.strict,\n\u001b[1;32m--> 513\u001b[1;33m                                 allow_downcast=s.allow_downcast)\n\u001b[0m\u001b[0;32m    514\u001b[0m \u001b[1;33m\u001b[0m\u001b[0m\n\u001b[0;32m    515\u001b[0m                     \u001b[1;32mexcept\u001b[0m \u001b[0mException\u001b[0m\u001b[1;33m,\u001b[0m \u001b[0me\u001b[0m\u001b[1;33m:\u001b[0m\u001b[1;33m\u001b[0m\u001b[0m\n",
      "\u001b[1;32m/usr/lib/python2.7/site-packages/theano/tensor/type.pyc\u001b[0m in \u001b[0;36mfilter\u001b[1;34m(self, data, strict, allow_downcast)\u001b[0m\n\u001b[0;32m    167\u001b[0m             raise TypeError(\"Wrong number of dimensions: expected %s,\"\n\u001b[0;32m    168\u001b[0m                             \" got %s with shape %s.\" % (self.ndim, data.ndim,\n\u001b[1;32m--> 169\u001b[1;33m                                                         data.shape))\n\u001b[0m\u001b[0;32m    170\u001b[0m         \u001b[1;32mif\u001b[0m \u001b[1;32mnot\u001b[0m \u001b[0mdata\u001b[0m\u001b[1;33m.\u001b[0m\u001b[0mflags\u001b[0m\u001b[1;33m.\u001b[0m\u001b[0maligned\u001b[0m\u001b[1;33m:\u001b[0m\u001b[1;33m\u001b[0m\u001b[0m\n\u001b[0;32m    171\u001b[0m             \u001b[1;32mtry\u001b[0m\u001b[1;33m:\u001b[0m\u001b[1;33m\u001b[0m\u001b[0m\n",
      "\u001b[1;31mTypeError\u001b[0m: ('Bad input argument to theano function with name \"gru_theano.py:119\"  at index 0(0-based)', 'Wrong number of dimensions: expected 1, got 2 with shape (5, 4).')"
     ]
    }
   ],
   "source": [
    "model = GRUTheano(VOCABULARY_SIZE, HIDDEN_DIM)\n",
    "t1 = time.time()\n",
    "model.sgd_step(X_train[10],y_train[10], LEARNING_RATE)\n",
    "t2 = time.time()\n",
    "print \"SGD Step time: ~%f milliseconds\" % ((t2 - t1) * 1000.)"
   ]
  },
  {
   "cell_type": "code",
   "execution_count": null,
   "metadata": {
    "collapsed": true
   },
   "outputs": [],
   "source": [
    "save_model_parameters_theano(model,\"./data/model.npz\")\n"
   ]
  },
  {
   "cell_type": "code",
   "execution_count": null,
   "metadata": {
    "collapsed": false
   },
   "outputs": [],
   "source": [
    "model = load_model_parameters_theano('./data/model.npz')"
   ]
  },
  {
   "cell_type": "code",
   "execution_count": 49,
   "metadata": {
    "collapsed": false
   },
   "outputs": [
    {
     "name": "stdout",
     "output_type": "stream",
     "text": [
      "[733, 5061, 776, 728, 1569, 777, 119, 1570, 1571]\n",
      "['tp-ZX', 'tp-ZX', 'vp-SG', 'np-ZX', 'np-ZX', 'np-ZX', 'vp-PO', 'vp-PO', 'vp-PO']\n"
     ]
    }
   ],
   "source": [
    "a=['去年','言','率领','中国','党政','代表团','到','苏联','访问']\n",
    "b=[]\n",
    "for x in a[:]:\n",
    "    if x in idx2word.values():\n",
    "        b.append( idx2word.values().index(x)) \n",
    "    else:\n",
    "         b.append(len(idx2word)-1) \n",
    "print b            \n",
    "y=model.predict(b)\n",
    "label1=[]\n",
    "for x in y[:]:\n",
    "    samples1 = np.random.multinomial(1, x)\n",
    "    sampled_word1 = np.argmax(samples1)\n",
    "    label1.append(idx2label[sampled_word1])\n",
    "print label"
   ]
  },
  {
   "cell_type": "code",
   "execution_count": null,
   "metadata": {
    "collapsed": true
   },
   "outputs": [],
   "source": []
  },
  {
   "cell_type": "code",
   "execution_count": null,
   "metadata": {
    "collapsed": true
   },
   "outputs": [],
   "source": []
  }
 ],
 "metadata": {
  "kernelspec": {
   "display_name": "Python 2",
   "language": "python",
   "name": "python2"
  },
  "language_info": {
   "codemirror_mode": {
    "name": "ipython",
    "version": 2
   },
   "file_extension": ".py",
   "mimetype": "text/x-python",
   "name": "python",
   "nbconvert_exporter": "python",
   "pygments_lexer": "ipython2",
   "version": "2.7.5"
  }
 },
 "nbformat": 4,
 "nbformat_minor": 0
}
