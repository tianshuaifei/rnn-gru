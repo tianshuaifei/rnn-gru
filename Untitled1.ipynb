{
 "cells": [
  {
   "cell_type": "code",
   "execution_count": 1,
   "metadata": {
    "collapsed": false
   },
   "outputs": [],
   "source": [
    "import re\n",
    "import cPickle\n",
    "import numpy as np\n",
    "fn = 'word2idx.pkl'\n",
    "with open(fn, 'r') as f:                   \n",
    "     idx2word=cPickle.load(f)\n",
    "fn1 = 'label2idx.pkl'\n",
    "with open(fn1, 'r') as f1:                   \n",
    "     idx2label=cPickle.load(f1)\n",
    "fn2 = 'train_data.pkl'\n",
    "with open(fn2, 'r') as f2:                   \n",
    "      train_data=cPickle.load(f2) \n",
    "VOCABULARY_SIZE = 17415\n",
    "X_train, y_train=train_data"
   ]
  },
  {
   "cell_type": "code",
   "execution_count": 2,
   "metadata": {
    "collapsed": true
   },
   "outputs": [
    {
     "data": {
      "text/plain": [
       "{0: 'np-ZX',\n",
       " 1: 'np-SG',\n",
       " 2: 'dp-SG',\n",
       " 3: 'vp-SG',\n",
       " 4: 'vp-PO',\n",
       " 5: 'FuncWord',\n",
       " 6: 'ap-SG',\n",
       " 7: 'vp-SB',\n",
       " 8: 'mp-ZX',\n",
       " 9: 'vp-ZX',\n",
       " 10: 'ap-ZX',\n",
       " 11: 'vp-AD',\n",
       " 12: 'sp-SG',\n",
       " 13: 'sp-ZX',\n",
       " 14: 'tp-ZX',\n",
       " 15: 'ap-LH',\n",
       " 16: 'tp-SG',\n",
       " 17: 'np-LN',\n",
       " 18: 'sp-LH',\n",
       " 19: 'ap-SB',\n",
       " 20: 'np-AD',\n",
       " 21: 'vp-LN',\n",
       " 22: 'vp-LH',\n",
       " 23: 'mp-SG',\n",
       " 24: 'np-LH',\n",
       " 25: 'ap-LN',\n",
       " 26: 'vp-CD',\n",
       " 27: 'mbar-SG',\n",
       " 28: 'tp-LN',\n",
       " 29: 'sp-LN',\n",
       " 30: 'dp-ZX',\n",
       " 31: 'ap-AD',\n",
       " 32: 'ap-CD',\n",
       " 33: 'dp-AD',\n",
       " 34: 'sp-AD',\n",
       " 35: 'ap-PO',\n",
       " 36: 'tp-AD',\n",
       " 37: 'tp-LH',\n",
       " 38: 'dp-LH'}"
      ]
     },
     "execution_count": 2,
     "metadata": {},
     "output_type": "execute_result"
    }
   ],
   "source": [
    "len(idx2word)\n",
    "X_train.shape\n",
    "idx2label"
   ]
  },
  {
   "cell_type": "code",
   "execution_count": 3,
   "metadata": {
    "collapsed": false
   },
   "outputs": [],
   "source": [
    "import numpy as np\n",
    "import theano as theano\n",
    "import theano.tensor as T\n",
    "import time\n",
    "import operator\n",
    "from utils import load_data,train_with_sgd, load_model_parameters_theano, save_model_parameters_theano,generate_sentence\n",
    "from gru_theano import *\n",
    "import sys\n",
    "LEARNING_RATE = 1e-3\n",
    "NEPOCH = 20\n",
    "HIDDEN_DIM = 128"
   ]
  },
  {
   "cell_type": "code",
   "execution_count": 23,
   "metadata": {
    "collapsed": false
   },
   "outputs": [
    {
     "name": "stdout",
     "output_type": "stream",
     "text": [
      "SGD Step time: ~85.154057 milliseconds\n"
     ]
    }
   ],
   "source": [
    "model = GRUTheano(VOCABULARY_SIZE, HIDDEN_DIM)\n",
    "t1 = time.time()\n",
    "model.sgd_step(X_train[10],y_train[10], LEARNING_RATE)\n",
    "t2 = time.time()\n",
    "print \"SGD Step time: ~%f milliseconds\" % ((t2 - t1) * 1000.)\n",
    "\n",
    "model=train_with_sgd(model, X_train[:], y_train[:], LEARNING_RATE, NEPOCH, decay=0.9)"
   ]
  },
  {
   "cell_type": "code",
   "execution_count": 4,
   "metadata": {
    "collapsed": true
   },
   "outputs": [
    {
     "ename": "NameError",
     "evalue": "name 'model' is not defined",
     "output_type": "error",
     "traceback": [
      "\u001b[1;31m---------------------------------------------------------------------------\u001b[0m",
      "\u001b[1;31mNameError\u001b[0m                                 Traceback (most recent call last)",
      "\u001b[1;32m<ipython-input-4-42900d4c771e>\u001b[0m in \u001b[0;36m<module>\u001b[1;34m()\u001b[0m\n\u001b[1;32m----> 1\u001b[1;33m \u001b[0msave_model_parameters_theano\u001b[0m\u001b[1;33m(\u001b[0m\u001b[0mmodel\u001b[0m\u001b[1;33m,\u001b[0m\u001b[1;34m\"./data/model.npz\"\u001b[0m\u001b[1;33m)\u001b[0m\u001b[1;33m\u001b[0m\u001b[0m\n\u001b[0m\u001b[0;32m      2\u001b[0m \u001b[0mmodel\u001b[0m \u001b[1;33m=\u001b[0m \u001b[0mload_model_parameters_theano\u001b[0m\u001b[1;33m(\u001b[0m\u001b[1;34m'./data/model.npz'\u001b[0m\u001b[1;33m)\u001b[0m\u001b[1;33m\u001b[0m\u001b[0m\n",
      "\u001b[1;31mNameError\u001b[0m: name 'model' is not defined"
     ]
    }
   ],
   "source": [
    "save_model_parameters_theano(model,\"./data/model.npz\")\n"
   ]
  },
  {
   "cell_type": "code",
   "execution_count": 6,
   "metadata": {
    "collapsed": false
   },
   "outputs": [
    {
     "name": "stdout",
     "output_type": "stream",
     "text": [
      "Building model model from ./data/model.npz with hidden_dim=128 word_dim=11075\n"
     ]
    }
   ],
   "source": [
    "model = load_model_parameters_theano('./data/model.npz')"
   ]
  },
  {
   "cell_type": "code",
   "execution_count": 12,
   "metadata": {
    "collapsed": false
   },
   "outputs": [
    {
     "name": "stdout",
     "output_type": "stream",
     "text": [
      "(10, 39)\n",
      "['mbar-SG', 'tp-ZX', 'np-SG', 'vp-SG', 'np-ZX', 'np-ZX', 'np-ZX', 'vp-PO', 'vp-PO', 'vp-PO']\n",
      "[27, 14, 1, 3, 0, 0, 0, 4, 4, 4]\n",
      "[5, 3, 0, 0, 5, 1, 5, 0, 0]\n"
     ]
    }
   ],
   "source": [
    "y=model.predict(b)\n",
    "print y.shape\n",
    "res=[]\n",
    "label=[]\n",
    "for x in y[:]:\n",
    "    samples1 = np.random.multinomial(1, x)\n",
    "    sampled_word1 = np.argmax(samples1)\n",
    "    res.append(sampled_word1)\n",
    "    label.append(idx2label[sampled_word1])\n",
    "print label    \n",
    "print res    \n",
    "print y_train[900]"
   ]
  },
  {
   "cell_type": "code",
   "execution_count": 49,
   "metadata": {
    "collapsed": false
   },
   "outputs": [
    {
     "name": "stdout",
     "output_type": "stream",
     "text": [
      "[733, 5061, 776, 728, 1569, 777, 119, 1570, 1571]\n",
      "['tp-ZX', 'tp-ZX', 'vp-SG', 'np-ZX', 'np-ZX', 'np-ZX', 'vp-PO', 'vp-PO', 'vp-PO']\n"
     ]
    }
   ],
   "source": [
    "a=['去年','言','率领','中国','党政','代表团','到','苏联','访问']\n",
    "b=[]\n",
    "for x in a[:]:\n",
    "    if x in idx2word.values():\n",
    "        b.append( idx2word.values().index(x)) \n",
    "    else:\n",
    "         b.append(len(idx2word)-1) \n",
    "print b            \n",
    "y=model.predict(b)\n",
    "label1=[]\n",
    "for x in y[:]:\n",
    "    samples1 = np.random.multinomial(1, x)\n",
    "    sampled_word1 = np.argmax(samples1)\n",
    "    label1.append(idx2label[sampled_word1])\n",
    "print label"
   ]
  },
  {
   "cell_type": "code",
   "execution_count": null,
   "metadata": {
    "collapsed": true
   },
   "outputs": [],
   "source": []
  },
  {
   "cell_type": "code",
   "execution_count": null,
   "metadata": {
    "collapsed": true
   },
   "outputs": [],
   "source": []
  }
 ],
 "metadata": {
  "kernelspec": {
   "display_name": "Python 2",
   "language": "python",
   "name": "python2"
  },
  "language_info": {
   "codemirror_mode": {
    "name": "ipython",
    "version": 2
   },
   "file_extension": ".py",
   "mimetype": "text/x-python",
   "name": "python",
   "nbconvert_exporter": "python",
   "pygments_lexer": "ipython2",
   "version": "2.7.5"
  }
 },
 "nbformat": 4,
 "nbformat_minor": 0
}
